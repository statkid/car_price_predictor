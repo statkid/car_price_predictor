{
 "cells": [
  {
   "cell_type": "code",
   "execution_count": 1,
   "id": "acd71d2c",
   "metadata": {},
   "outputs": [],
   "source": [
    "import pandas as pd\n",
    "import numpy as np\n",
    "import seaborn as sns\n",
    "import matplotlib.pyplot as plt"
   ]
  },
  {
   "cell_type": "code",
   "execution_count": 2,
   "id": "09f69657",
   "metadata": {},
   "outputs": [],
   "source": [
    "df = pd.read_csv('cleaned_car_dataset.csv')"
   ]
  },
  {
   "cell_type": "code",
   "execution_count": 3,
   "id": "8b7f22d3",
   "metadata": {},
   "outputs": [
    {
     "data": {
      "text/html": [
       "<div>\n",
       "<style scoped>\n",
       "    .dataframe tbody tr th:only-of-type {\n",
       "        vertical-align: middle;\n",
       "    }\n",
       "\n",
       "    .dataframe tbody tr th {\n",
       "        vertical-align: top;\n",
       "    }\n",
       "\n",
       "    .dataframe thead th {\n",
       "        text-align: right;\n",
       "    }\n",
       "</style>\n",
       "<table border=\"1\" class=\"dataframe\">\n",
       "  <thead>\n",
       "    <tr style=\"text-align: right;\">\n",
       "      <th></th>\n",
       "      <th>Unnamed: 0</th>\n",
       "      <th>name</th>\n",
       "      <th>company</th>\n",
       "      <th>year</th>\n",
       "      <th>Price</th>\n",
       "      <th>kms_driven</th>\n",
       "      <th>fuel_type</th>\n",
       "    </tr>\n",
       "  </thead>\n",
       "  <tbody>\n",
       "    <tr>\n",
       "      <th>0</th>\n",
       "      <td>0</td>\n",
       "      <td>Hyundai Santro Xing</td>\n",
       "      <td>Hyundai</td>\n",
       "      <td>2007</td>\n",
       "      <td>80000.0</td>\n",
       "      <td>45000</td>\n",
       "      <td>Petrol</td>\n",
       "    </tr>\n",
       "    <tr>\n",
       "      <th>1</th>\n",
       "      <td>1</td>\n",
       "      <td>Mahindra Jeep CL550</td>\n",
       "      <td>Mahindra</td>\n",
       "      <td>2006</td>\n",
       "      <td>425000.0</td>\n",
       "      <td>40</td>\n",
       "      <td>Diesel</td>\n",
       "    </tr>\n",
       "    <tr>\n",
       "      <th>2</th>\n",
       "      <td>2</td>\n",
       "      <td>Hyundai Grand i10</td>\n",
       "      <td>Hyundai</td>\n",
       "      <td>2014</td>\n",
       "      <td>325000.0</td>\n",
       "      <td>28000</td>\n",
       "      <td>Petrol</td>\n",
       "    </tr>\n",
       "    <tr>\n",
       "      <th>3</th>\n",
       "      <td>3</td>\n",
       "      <td>Ford EcoSport Titanium</td>\n",
       "      <td>Ford</td>\n",
       "      <td>2014</td>\n",
       "      <td>575000.0</td>\n",
       "      <td>36000</td>\n",
       "      <td>Diesel</td>\n",
       "    </tr>\n",
       "    <tr>\n",
       "      <th>4</th>\n",
       "      <td>4</td>\n",
       "      <td>Ford Figo</td>\n",
       "      <td>Ford</td>\n",
       "      <td>2012</td>\n",
       "      <td>175000.0</td>\n",
       "      <td>41000</td>\n",
       "      <td>Diesel</td>\n",
       "    </tr>\n",
       "  </tbody>\n",
       "</table>\n",
       "</div>"
      ],
      "text/plain": [
       "   Unnamed: 0                    name   company  year     Price  kms_driven  \\\n",
       "0           0     Hyundai Santro Xing   Hyundai  2007   80000.0       45000   \n",
       "1           1     Mahindra Jeep CL550  Mahindra  2006  425000.0          40   \n",
       "2           2       Hyundai Grand i10   Hyundai  2014  325000.0       28000   \n",
       "3           3  Ford EcoSport Titanium      Ford  2014  575000.0       36000   \n",
       "4           4               Ford Figo      Ford  2012  175000.0       41000   \n",
       "\n",
       "  fuel_type  \n",
       "0    Petrol  \n",
       "1    Diesel  \n",
       "2    Petrol  \n",
       "3    Diesel  \n",
       "4    Diesel  "
      ]
     },
     "execution_count": 3,
     "metadata": {},
     "output_type": "execute_result"
    }
   ],
   "source": [
    "df.head()"
   ]
  },
  {
   "cell_type": "code",
   "execution_count": 4,
   "id": "0203df5e",
   "metadata": {},
   "outputs": [],
   "source": [
    "del df['Unnamed: 0']"
   ]
  },
  {
   "cell_type": "code",
   "execution_count": 5,
   "id": "7b3a9e4d",
   "metadata": {},
   "outputs": [
    {
     "data": {
      "text/html": [
       "<div>\n",
       "<style scoped>\n",
       "    .dataframe tbody tr th:only-of-type {\n",
       "        vertical-align: middle;\n",
       "    }\n",
       "\n",
       "    .dataframe tbody tr th {\n",
       "        vertical-align: top;\n",
       "    }\n",
       "\n",
       "    .dataframe thead th {\n",
       "        text-align: right;\n",
       "    }\n",
       "</style>\n",
       "<table border=\"1\" class=\"dataframe\">\n",
       "  <thead>\n",
       "    <tr style=\"text-align: right;\">\n",
       "      <th></th>\n",
       "      <th>name</th>\n",
       "      <th>company</th>\n",
       "      <th>year</th>\n",
       "      <th>Price</th>\n",
       "      <th>kms_driven</th>\n",
       "      <th>fuel_type</th>\n",
       "    </tr>\n",
       "  </thead>\n",
       "  <tbody>\n",
       "    <tr>\n",
       "      <th>0</th>\n",
       "      <td>Hyundai Santro Xing</td>\n",
       "      <td>Hyundai</td>\n",
       "      <td>2007</td>\n",
       "      <td>80000.0</td>\n",
       "      <td>45000</td>\n",
       "      <td>Petrol</td>\n",
       "    </tr>\n",
       "    <tr>\n",
       "      <th>1</th>\n",
       "      <td>Mahindra Jeep CL550</td>\n",
       "      <td>Mahindra</td>\n",
       "      <td>2006</td>\n",
       "      <td>425000.0</td>\n",
       "      <td>40</td>\n",
       "      <td>Diesel</td>\n",
       "    </tr>\n",
       "    <tr>\n",
       "      <th>2</th>\n",
       "      <td>Hyundai Grand i10</td>\n",
       "      <td>Hyundai</td>\n",
       "      <td>2014</td>\n",
       "      <td>325000.0</td>\n",
       "      <td>28000</td>\n",
       "      <td>Petrol</td>\n",
       "    </tr>\n",
       "    <tr>\n",
       "      <th>3</th>\n",
       "      <td>Ford EcoSport Titanium</td>\n",
       "      <td>Ford</td>\n",
       "      <td>2014</td>\n",
       "      <td>575000.0</td>\n",
       "      <td>36000</td>\n",
       "      <td>Diesel</td>\n",
       "    </tr>\n",
       "    <tr>\n",
       "      <th>4</th>\n",
       "      <td>Ford Figo</td>\n",
       "      <td>Ford</td>\n",
       "      <td>2012</td>\n",
       "      <td>175000.0</td>\n",
       "      <td>41000</td>\n",
       "      <td>Diesel</td>\n",
       "    </tr>\n",
       "  </tbody>\n",
       "</table>\n",
       "</div>"
      ],
      "text/plain": [
       "                     name   company  year     Price  kms_driven fuel_type\n",
       "0     Hyundai Santro Xing   Hyundai  2007   80000.0       45000    Petrol\n",
       "1     Mahindra Jeep CL550  Mahindra  2006  425000.0          40    Diesel\n",
       "2       Hyundai Grand i10   Hyundai  2014  325000.0       28000    Petrol\n",
       "3  Ford EcoSport Titanium      Ford  2014  575000.0       36000    Diesel\n",
       "4               Ford Figo      Ford  2012  175000.0       41000    Diesel"
      ]
     },
     "execution_count": 5,
     "metadata": {},
     "output_type": "execute_result"
    }
   ],
   "source": [
    "df.head()"
   ]
  },
  {
   "cell_type": "code",
   "execution_count": 6,
   "id": "c9c9ad2a",
   "metadata": {},
   "outputs": [
    {
     "data": {
      "text/html": [
       "<div>\n",
       "<style scoped>\n",
       "    .dataframe tbody tr th:only-of-type {\n",
       "        vertical-align: middle;\n",
       "    }\n",
       "\n",
       "    .dataframe tbody tr th {\n",
       "        vertical-align: top;\n",
       "    }\n",
       "\n",
       "    .dataframe thead th {\n",
       "        text-align: right;\n",
       "    }\n",
       "</style>\n",
       "<table border=\"1\" class=\"dataframe\">\n",
       "  <thead>\n",
       "    <tr style=\"text-align: right;\">\n",
       "      <th></th>\n",
       "      <th>year</th>\n",
       "      <th>Price</th>\n",
       "      <th>kms_driven</th>\n",
       "    </tr>\n",
       "  </thead>\n",
       "  <tbody>\n",
       "    <tr>\n",
       "      <th>year</th>\n",
       "      <td>1.000000</td>\n",
       "      <td>0.318706</td>\n",
       "      <td>-0.233695</td>\n",
       "    </tr>\n",
       "    <tr>\n",
       "      <th>Price</th>\n",
       "      <td>0.318706</td>\n",
       "      <td>1.000000</td>\n",
       "      <td>-0.135140</td>\n",
       "    </tr>\n",
       "    <tr>\n",
       "      <th>kms_driven</th>\n",
       "      <td>-0.233695</td>\n",
       "      <td>-0.135140</td>\n",
       "      <td>1.000000</td>\n",
       "    </tr>\n",
       "  </tbody>\n",
       "</table>\n",
       "</div>"
      ],
      "text/plain": [
       "                year     Price  kms_driven\n",
       "year        1.000000  0.318706   -0.233695\n",
       "Price       0.318706  1.000000   -0.135140\n",
       "kms_driven -0.233695 -0.135140    1.000000"
      ]
     },
     "execution_count": 6,
     "metadata": {},
     "output_type": "execute_result"
    }
   ],
   "source": [
    "df.corr()"
   ]
  },
  {
   "cell_type": "markdown",
   "id": "558c6afa",
   "metadata": {},
   "source": [
    "# Model Understanding:"
   ]
  },
  {
   "cell_type": "code",
   "execution_count": 7,
   "id": "aae3920b",
   "metadata": {},
   "outputs": [
    {
     "data": {
      "text/plain": [
       "Maruti Suzuki Swift            51\n",
       "Maruti Suzuki Alto             42\n",
       "Maruti Suzuki Wagon            28\n",
       "Maruti Suzuki Ertiga           16\n",
       "Hyundai Santro Xing            15\n",
       "                               ..\n",
       "Mercedes Benz A                 1\n",
       "Tata Manza ELAN                 1\n",
       "Volkswagen Polo Comfortline     1\n",
       "Nissan Sunny                    1\n",
       "Tata Zest XM                    1\n",
       "Name: name, Length: 254, dtype: int64"
      ]
     },
     "execution_count": 7,
     "metadata": {},
     "output_type": "execute_result"
    }
   ],
   "source": [
    "df['name'].value_counts()"
   ]
  },
  {
   "cell_type": "code",
   "execution_count": 8,
   "id": "7f7ab9ea",
   "metadata": {},
   "outputs": [
    {
     "data": {
      "text/plain": [
       "Maruti        221\n",
       "Hyundai       139\n",
       "Mahindra       98\n",
       "Tata           65\n",
       "Honda          60\n",
       "Toyota         36\n",
       "Chevrolet      34\n",
       "Renault        33\n",
       "Ford           30\n",
       "Volkswagen     19\n",
       "Skoda          13\n",
       "Audi           11\n",
       "Mini            8\n",
       "BMW             8\n",
       "Datsun          7\n",
       "Mitsubishi      6\n",
       "Nissan          6\n",
       "Mercedes        6\n",
       "Fiat            4\n",
       "Force           4\n",
       "Hindustan       3\n",
       "Jaguar          2\n",
       "Land            1\n",
       "Jeep            1\n",
       "Volvo           1\n",
       "Name: company, dtype: int64"
      ]
     },
     "execution_count": 8,
     "metadata": {},
     "output_type": "execute_result"
    }
   ],
   "source": [
    "df['company'].value_counts()"
   ]
  },
  {
   "cell_type": "markdown",
   "id": "fc3df08a",
   "metadata": {},
   "source": [
    "# Model Preparation :"
   ]
  },
  {
   "cell_type": "code",
   "execution_count": 9,
   "id": "ac5ee0fa",
   "metadata": {},
   "outputs": [],
   "source": [
    "from sklearn.preprocessing import OneHotEncoder"
   ]
  },
  {
   "cell_type": "code",
   "execution_count": 10,
   "id": "7e4068b8",
   "metadata": {},
   "outputs": [],
   "source": [
    "from sklearn.compose import ColumnTransformer"
   ]
  },
  {
   "cell_type": "code",
   "execution_count": 11,
   "id": "05736606",
   "metadata": {},
   "outputs": [],
   "source": [
    "from sklearn.pipeline import Pipeline"
   ]
  },
  {
   "cell_type": "markdown",
   "id": "7060923b",
   "metadata": {},
   "source": [
    "# Variable Formation"
   ]
  },
  {
   "cell_type": "code",
   "execution_count": 12,
   "id": "4adaab32",
   "metadata": {},
   "outputs": [],
   "source": [
    "X = df.drop('Price',axis=1)"
   ]
  },
  {
   "cell_type": "code",
   "execution_count": 13,
   "id": "3d935593",
   "metadata": {},
   "outputs": [],
   "source": [
    "y = df['Price']"
   ]
  },
  {
   "cell_type": "code",
   "execution_count": 14,
   "id": "8753bebc",
   "metadata": {},
   "outputs": [
    {
     "data": {
      "text/html": [
       "<div>\n",
       "<style scoped>\n",
       "    .dataframe tbody tr th:only-of-type {\n",
       "        vertical-align: middle;\n",
       "    }\n",
       "\n",
       "    .dataframe tbody tr th {\n",
       "        vertical-align: top;\n",
       "    }\n",
       "\n",
       "    .dataframe thead th {\n",
       "        text-align: right;\n",
       "    }\n",
       "</style>\n",
       "<table border=\"1\" class=\"dataframe\">\n",
       "  <thead>\n",
       "    <tr style=\"text-align: right;\">\n",
       "      <th></th>\n",
       "      <th>name</th>\n",
       "      <th>company</th>\n",
       "      <th>year</th>\n",
       "      <th>kms_driven</th>\n",
       "      <th>fuel_type</th>\n",
       "    </tr>\n",
       "  </thead>\n",
       "  <tbody>\n",
       "    <tr>\n",
       "      <th>0</th>\n",
       "      <td>Hyundai Santro Xing</td>\n",
       "      <td>Hyundai</td>\n",
       "      <td>2007</td>\n",
       "      <td>45000</td>\n",
       "      <td>Petrol</td>\n",
       "    </tr>\n",
       "    <tr>\n",
       "      <th>1</th>\n",
       "      <td>Mahindra Jeep CL550</td>\n",
       "      <td>Mahindra</td>\n",
       "      <td>2006</td>\n",
       "      <td>40</td>\n",
       "      <td>Diesel</td>\n",
       "    </tr>\n",
       "    <tr>\n",
       "      <th>2</th>\n",
       "      <td>Hyundai Grand i10</td>\n",
       "      <td>Hyundai</td>\n",
       "      <td>2014</td>\n",
       "      <td>28000</td>\n",
       "      <td>Petrol</td>\n",
       "    </tr>\n",
       "    <tr>\n",
       "      <th>3</th>\n",
       "      <td>Ford EcoSport Titanium</td>\n",
       "      <td>Ford</td>\n",
       "      <td>2014</td>\n",
       "      <td>36000</td>\n",
       "      <td>Diesel</td>\n",
       "    </tr>\n",
       "    <tr>\n",
       "      <th>4</th>\n",
       "      <td>Ford Figo</td>\n",
       "      <td>Ford</td>\n",
       "      <td>2012</td>\n",
       "      <td>41000</td>\n",
       "      <td>Diesel</td>\n",
       "    </tr>\n",
       "  </tbody>\n",
       "</table>\n",
       "</div>"
      ],
      "text/plain": [
       "                     name   company  year  kms_driven fuel_type\n",
       "0     Hyundai Santro Xing   Hyundai  2007       45000    Petrol\n",
       "1     Mahindra Jeep CL550  Mahindra  2006          40    Diesel\n",
       "2       Hyundai Grand i10   Hyundai  2014       28000    Petrol\n",
       "3  Ford EcoSport Titanium      Ford  2014       36000    Diesel\n",
       "4               Ford Figo      Ford  2012       41000    Diesel"
      ]
     },
     "execution_count": 14,
     "metadata": {},
     "output_type": "execute_result"
    }
   ],
   "source": [
    "X.head()"
   ]
  },
  {
   "cell_type": "code",
   "execution_count": 15,
   "id": "0b82a822",
   "metadata": {},
   "outputs": [
    {
     "data": {
      "text/plain": [
       "0     80000.0\n",
       "1    425000.0\n",
       "2    325000.0\n",
       "3    575000.0\n",
       "4    175000.0\n",
       "Name: Price, dtype: float64"
      ]
     },
     "execution_count": 15,
     "metadata": {},
     "output_type": "execute_result"
    }
   ],
   "source": [
    "y.head()"
   ]
  },
  {
   "cell_type": "markdown",
   "id": "2724f726",
   "metadata": {},
   "source": [
    "# Train Test Split"
   ]
  },
  {
   "cell_type": "code",
   "execution_count": 16,
   "id": "d1bd7327",
   "metadata": {},
   "outputs": [],
   "source": [
    "from sklearn.model_selection import train_test_split"
   ]
  },
  {
   "cell_type": "code",
   "execution_count": 17,
   "id": "7c4b6866",
   "metadata": {},
   "outputs": [],
   "source": [
    "X_train,X_test,y_train,y_test = train_test_split(X,y,test_size=0.2)"
   ]
  },
  {
   "cell_type": "code",
   "execution_count": 18,
   "id": "c6f22a86",
   "metadata": {},
   "outputs": [
    {
     "data": {
      "text/plain": [
       "(652, 5)"
      ]
     },
     "execution_count": 18,
     "metadata": {},
     "output_type": "execute_result"
    }
   ],
   "source": [
    "X_train.shape"
   ]
  },
  {
   "cell_type": "code",
   "execution_count": 19,
   "id": "085bf2dc",
   "metadata": {},
   "outputs": [
    {
     "data": {
      "text/plain": [
       "(164, 5)"
      ]
     },
     "execution_count": 19,
     "metadata": {},
     "output_type": "execute_result"
    }
   ],
   "source": [
    "X_test.shape"
   ]
  },
  {
   "cell_type": "markdown",
   "id": "3ffab4f5",
   "metadata": {},
   "source": [
    "Training Our Model"
   ]
  },
  {
   "cell_type": "markdown",
   "id": "6acf72b5",
   "metadata": {},
   "source": [
    "# Model Formation"
   ]
  },
  {
   "cell_type": "code",
   "execution_count": 20,
   "id": "ab68d8b6",
   "metadata": {},
   "outputs": [],
   "source": [
    "from sklearn.linear_model import LinearRegression"
   ]
  },
  {
   "cell_type": "code",
   "execution_count": 21,
   "id": "37691039",
   "metadata": {},
   "outputs": [],
   "source": [
    "from sklearn.preprocessing import OneHotEncoder\n",
    "from sklearn.compose import make_column_transformer\n",
    "from sklearn.pipeline import make_pipeline\n",
    "from sklearn.metrics import r2_score"
   ]
  },
  {
   "cell_type": "code",
   "execution_count": 22,
   "id": "f36309bb",
   "metadata": {},
   "outputs": [
    {
     "data": {
      "text/html": [
       "<div>\n",
       "<style scoped>\n",
       "    .dataframe tbody tr th:only-of-type {\n",
       "        vertical-align: middle;\n",
       "    }\n",
       "\n",
       "    .dataframe tbody tr th {\n",
       "        vertical-align: top;\n",
       "    }\n",
       "\n",
       "    .dataframe thead th {\n",
       "        text-align: right;\n",
       "    }\n",
       "</style>\n",
       "<table border=\"1\" class=\"dataframe\">\n",
       "  <thead>\n",
       "    <tr style=\"text-align: right;\">\n",
       "      <th></th>\n",
       "      <th>name</th>\n",
       "      <th>company</th>\n",
       "      <th>year</th>\n",
       "      <th>kms_driven</th>\n",
       "      <th>fuel_type</th>\n",
       "    </tr>\n",
       "  </thead>\n",
       "  <tbody>\n",
       "    <tr>\n",
       "      <th>0</th>\n",
       "      <td>Hyundai Santro Xing</td>\n",
       "      <td>Hyundai</td>\n",
       "      <td>2007</td>\n",
       "      <td>45000</td>\n",
       "      <td>Petrol</td>\n",
       "    </tr>\n",
       "  </tbody>\n",
       "</table>\n",
       "</div>"
      ],
      "text/plain": [
       "                  name  company  year  kms_driven fuel_type\n",
       "0  Hyundai Santro Xing  Hyundai  2007       45000    Petrol"
      ]
     },
     "execution_count": 22,
     "metadata": {},
     "output_type": "execute_result"
    }
   ],
   "source": [
    "X.head(1)"
   ]
  },
  {
   "cell_type": "code",
   "execution_count": 23,
   "id": "cbcc5234",
   "metadata": {},
   "outputs": [
    {
     "data": {
      "text/plain": [
       "OneHotEncoder()"
      ]
     },
     "execution_count": 23,
     "metadata": {},
     "output_type": "execute_result"
    }
   ],
   "source": [
    "ohe=OneHotEncoder()\n",
    "ohe.fit(X[['name','company','fuel_type']])"
   ]
  },
  {
   "cell_type": "code",
   "execution_count": 24,
   "id": "02255910",
   "metadata": {},
   "outputs": [],
   "source": [
    "step1=make_column_transformer((OneHotEncoder(categories=ohe.categories_),['name','company','fuel_type']),\n",
    "                                    remainder='passthrough')"
   ]
  },
  {
   "cell_type": "code",
   "execution_count": 25,
   "id": "ed7a8726",
   "metadata": {},
   "outputs": [],
   "source": [
    "step2= LinearRegression()"
   ]
  },
  {
   "cell_type": "code",
   "execution_count": 26,
   "id": "955597c8",
   "metadata": {},
   "outputs": [],
   "source": [
    "pipe = Pipeline([\n",
    "    ('step1',step1),\n",
    "    ('step2',step2)\n",
    "])"
   ]
  },
  {
   "cell_type": "code",
   "execution_count": 27,
   "id": "209d06f3",
   "metadata": {},
   "outputs": [
    {
     "data": {
      "text/plain": [
       "Pipeline(steps=[('step1',\n",
       "                 ColumnTransformer(remainder='passthrough',\n",
       "                                   transformers=[('onehotencoder',\n",
       "                                                  OneHotEncoder(categories=[array(['Audi A3 Cabriolet', 'Audi A4 1.8', 'Audi A4 2.0', 'Audi A6 2.0',\n",
       "       'Audi A8', 'Audi Q3 2.0', 'Audi Q5 2.0', 'Audi Q7', 'BMW 3 Series',\n",
       "       'BMW 5 Series', 'BMW 7 Series', 'BMW X1', 'BMW X1 sDrive20d',\n",
       "       'BMW X1 xDrive20d', 'Chevrolet Beat', 'Chevrolet Beat Diesel',\n",
       "       'Che...\n",
       "                                                                            array(['Audi', 'BMW', 'Chevrolet', 'Datsun', 'Fiat', 'Force', 'Ford',\n",
       "       'Hindustan', 'Honda', 'Hyundai', 'Jaguar', 'Jeep', 'Land',\n",
       "       'Mahindra', 'Maruti', 'Mercedes', 'Mini', 'Mitsubishi', 'Nissan',\n",
       "       'Renault', 'Skoda', 'Tata', 'Toyota', 'Volkswagen', 'Volvo'],\n",
       "      dtype=object),\n",
       "                                                                            array(['Diesel', 'LPG', 'Petrol'], dtype=object)]),\n",
       "                                                  ['name', 'company',\n",
       "                                                   'fuel_type'])])),\n",
       "                ('step2', LinearRegression())])"
      ]
     },
     "execution_count": 27,
     "metadata": {},
     "output_type": "execute_result"
    }
   ],
   "source": [
    "pipe.fit(X_train,y_train)"
   ]
  },
  {
   "cell_type": "markdown",
   "id": "631a2728",
   "metadata": {},
   "source": [
    "# Model Predictions:"
   ]
  },
  {
   "cell_type": "code",
   "execution_count": 28,
   "id": "003b6aac",
   "metadata": {},
   "outputs": [],
   "source": [
    "y_train_pred = pipe.predict(X_train)"
   ]
  },
  {
   "cell_type": "code",
   "execution_count": 29,
   "id": "498b9bde",
   "metadata": {
    "scrolled": false
   },
   "outputs": [
    {
     "data": {
      "text/plain": [
       "array([ 6.86069356e+05,  1.00032486e+06,  1.93779983e+05,  1.65286311e+05,\n",
       "        3.80012370e+05,  4.62055818e+05,  8.21292876e+04,  3.39867079e+05,\n",
       "        2.85013056e+05,  1.18325842e+05,  4.71195330e+05,  3.18218890e+05,\n",
       "        3.55191056e+05,  6.06761233e+05,  2.10527687e+05,  2.54972566e+05,\n",
       "        3.69048361e+05,  1.88509529e+06,  6.83355400e+05,  2.29172307e+05,\n",
       "        1.07695556e+05,  5.30713632e+05,  8.75171241e+04,  5.29459155e+05,\n",
       "        1.85859712e+05,  7.78740640e+05,  1.00714554e+05,  1.19121517e+05,\n",
       "        2.98062152e+05,  4.20981655e+05,  2.13377181e+05,  2.26323044e+05,\n",
       "        5.42322756e+05,  3.58443443e+05,  1.56202653e+06,  1.57277603e+06,\n",
       "        8.44645358e+05,  3.77426950e+05,  2.78585541e+05,  2.54926645e+05,\n",
       "        3.47135821e+05,  1.51995132e+05,  5.95890570e+05,  3.22168140e+05,\n",
       "        8.44645358e+05,  5.37596128e+05,  5.12453068e+05,  2.79733518e+05,\n",
       "        5.14998695e+05,  1.01061295e+05,  5.02170431e+05,  5.19246293e+05,\n",
       "        8.44260361e+04,  1.34982465e+05,  1.03776221e+05,  1.63463923e+05,\n",
       "        1.57556435e+05,  2.77891622e+05,  2.34210566e+05,  3.28332539e+05,\n",
       "        6.36474427e+05,  3.85278396e+05,  9.45958620e+04,  5.51519857e+05,\n",
       "        5.95474666e+05,  4.98516247e+05,  3.75753860e+05,  5.58703920e+05,\n",
       "        2.78960264e+05,  3.59521424e+05,  4.53526714e+05,  5.80829790e+05,\n",
       "        8.52742444e+04,  5.01512877e+05,  1.06873733e+05,  7.07729427e+04,\n",
       "        2.20030271e+06,  2.61964407e+05,  1.87044809e+05,  1.83926071e+05,\n",
       "        2.37267406e+05,  1.94833799e+05,  1.55301070e+05,  2.57026810e+05,\n",
       "        1.28075700e+05,  8.24284311e+05,  4.63294822e+05,  1.93044286e+05,\n",
       "        3.07473977e+05,  1.20190190e+05,  2.82200369e+05,  4.90419368e+05,\n",
       "        4.00512005e+05,  1.56047778e+06,  2.40238961e+05,  5.74543332e+05,\n",
       "        8.82913378e+04,  5.37596128e+05,  2.28788319e+05,  5.12453068e+05,\n",
       "        3.11283591e+05,  5.94948777e+05,  6.40747244e+05,  5.12298193e+05,\n",
       "        8.75171241e+04,  1.88509529e+06,  4.46330575e+05,  4.57680462e+03,\n",
       "        4.80956336e+05,  5.49486652e+05,  1.20669457e+05,  2.61043918e+05,\n",
       "        7.25223266e+04,  4.84455149e+05,  2.29099671e+05,  3.70531222e+05,\n",
       "        2.59959789e+05,  6.17080160e+05,  1.37946529e+05,  2.98062152e+05,\n",
       "        2.36144597e+05,  1.84720074e+05,  2.81475546e+05,  1.06354727e+05,\n",
       "        1.04191690e+05,  2.67142958e+05,  3.31789146e+05,  1.56047778e+06,\n",
       "        6.02697730e+05,  2.48776587e+05,  4.22612946e+05,  3.04179660e+05,\n",
       "        2.23031491e+05,  1.70093811e+05,  1.32633936e+05,  1.65552751e+05,\n",
       "        1.46113092e+05,  3.43040695e+05,  1.21250373e+04,  1.29534319e+06,\n",
       "        2.78867338e+05,  2.40914765e+05,  6.62248329e+05,  2.48392826e+05,\n",
       "        1.60173387e+05,  9.85778922e+05,  1.82397302e+04,  2.51520983e+05,\n",
       "        1.64141088e+04,  1.71298629e+05,  2.18935516e+05,  4.71555139e+04,\n",
       "        4.03952104e+05,  2.02014895e+05,  1.95067694e+05,  2.52845808e+04,\n",
       "        3.02402153e+05,  2.85013056e+05,  2.72309920e+05,  2.41024078e+05,\n",
       "        3.66566833e+05,  3.37745623e+05,  6.48288446e+05,  5.59405466e+05,\n",
       "        5.04887394e+04,  2.26342886e+05,  3.40490903e+05,  1.72692510e+05,\n",
       "        6.04088920e+05,  1.77254016e+05,  2.99809783e+05,  1.44197038e+05,\n",
       "        6.90300711e+05,  3.09619225e+05,  2.69197725e+05,  4.27748483e+05,\n",
       "        7.06991449e+04,  3.35844635e+05,  3.24418517e+05,  5.01665473e+05,\n",
       "        4.66788830e+05,  9.12094352e+04,  2.35236421e+05,  4.25707378e+05,\n",
       "        1.14259485e+05,  1.69848596e+05,  5.63290089e+05,  3.67630265e+05,\n",
       "        1.81943885e+05,  2.17285424e+05,  2.35875930e+05,  3.39732997e+05,\n",
       "        3.15295444e+05,  2.86036134e+05,  2.78585541e+05, -9.51105500e+03,\n",
       "        4.45404104e+05,  1.64244619e+05,  3.43321144e+05,  5.44181263e+05,\n",
       "        2.32816685e+05,  3.23165754e+05,  1.44104112e+05,  5.31803710e+05,\n",
       "        2.44463600e+05,  1.17522788e+05,  1.61275841e+06,  5.01665473e+05,\n",
       "        1.90134040e+05,  4.01064323e+05,  6.40747244e+05,  5.63272937e+05,\n",
       "        2.31730956e+05,  5.42759197e+05,  1.04520611e+05,  5.49176900e+05,\n",
       "        5.80829790e+05,  5.11310456e+05,  4.73934643e+05,  2.09156369e+05,\n",
       "        3.70829668e+05,  7.48909838e+05,  1.68510869e+05,  2.28944796e+05,\n",
       "        1.12628337e+05,  6.01909456e+05,  2.29998279e+05,  3.42118351e+05,\n",
       "        3.69664345e+05,  4.78716213e+05,  4.46583014e+05,  3.20953351e+05,\n",
       "        1.82300880e+05,  5.10381202e+05,  4.52904762e+05,  2.62747549e+05,\n",
       "        2.33817196e+05,  2.76575179e+05,  6.01184794e+05,  7.82302779e+05,\n",
       "        3.47091676e+05,  1.54834133e+06,  3.93773933e+05,  5.80829790e+05,\n",
       "        5.82191014e+05,  1.73726811e+05,  2.62639965e+05,  5.47937896e+05,\n",
       "        4.10145706e+04,  3.09837513e+06,  4.63604573e+05,  2.36749402e+05,\n",
       "        3.47942414e+05,  2.18940162e+05,  2.30223904e+05,  2.12585723e+05,\n",
       "        3.98080772e+05,  2.86346828e+05,  2.70535031e+05,  3.65085167e+05,\n",
       "        1.71061978e+05,  2.06658968e+05,  2.26071594e+05,  2.39417037e+05,\n",
       "        3.50271433e+05,  1.93470232e+05,  2.88902331e+05,  6.89300500e+05,\n",
       "        8.44645358e+05,  2.98831931e+05,  1.51269394e+05,  1.00711610e+06,\n",
       "        2.04297761e+05,  4.60129180e+05,  1.19624398e+05,  2.81515217e+06,\n",
       "        3.69092506e+05,  2.44890028e+05,  3.69664345e+05,  2.60209498e+05,\n",
       "        2.35054125e+04,  3.07196242e+05,  3.55191056e+05,  5.64511754e+05,\n",
       "        5.34939022e+05,  1.36335161e+05,  2.91126057e+05,  4.93523716e+05,\n",
       "        7.08011243e+05,  3.75984157e+05,  5.54186458e+05,  1.68098126e+05,\n",
       "        1.49440667e+05,  3.68446597e+05,  4.72830941e+05,  5.37803178e+05,\n",
       "        7.32410560e+05,  3.12140914e+05,  1.01403930e+05,  2.11245276e+05,\n",
       "        1.01618139e+06,  9.88411807e+05,  3.21609952e+05,  2.30501646e+05,\n",
       "        2.91235515e+05,  5.32757990e+05,  2.62863668e+05,  2.06833235e+05,\n",
       "        5.65194346e+05,  1.22095353e+05,  3.15295444e+05,  4.62365569e+05,\n",
       "        7.17626671e+05,  8.42975459e+04,  1.74308146e+05,  1.88509529e+06,\n",
       "        2.98062152e+05,  6.21261801e+05,  1.75365233e+05,  3.94933338e+05,\n",
       "        4.94930918e+05,  1.68510869e+05,  5.01512877e+05,  3.97011588e+05,\n",
       "        6.01163623e+05,  3.43166917e+05,  2.50599824e+05,  3.11482115e+05,\n",
       "        4.26459918e+05,  5.78164248e+05,  2.81129801e+05,  3.39139503e+05,\n",
       "        2.34210566e+05,  3.74080739e+05,  3.11482115e+05,  3.70821815e+05,\n",
       "        2.51529077e+05,  1.92050496e+05,  3.15610154e+05,  3.46361443e+05,\n",
       "        3.36399750e+05,  3.11576075e+06,  2.11985469e+05, -8.20195846e+04,\n",
       "        1.30364803e+05,  5.14142862e+05,  5.79016064e+05,  3.25467971e+05,\n",
       "        6.09741566e+05,  3.50763536e+05,  2.60110397e+05,  3.00543646e+05,\n",
       "        6.21261801e+05,  8.14768119e+04,  3.22043044e+05,  9.19268393e+05,\n",
       "        3.53207173e+05,  2.47638499e+05,  2.30223904e+05,  2.80307675e+05,\n",
       "        5.45924513e+05,  2.74942805e+05,  6.22716526e+05,  1.05890100e+05,\n",
       "        2.13937019e+05,  2.31120770e+05,  1.27993702e+05,  2.49278709e+05,\n",
       "        1.05691475e+06,  6.01076691e+05,  6.50380505e+05,  1.50380762e+05,\n",
       "        2.25692408e+05,  2.94131766e+05,  3.18218890e+05,  2.90860750e+05,\n",
       "        2.62687672e+05,  7.30335878e+05,  1.07487865e+05,  7.53312316e+04,\n",
       "        3.15610154e+05,  1.74673603e+05,  1.97490647e+05,  1.67545596e+05,\n",
       "        8.39005414e+04,  2.85728321e+05,  1.06718857e+05,  1.61663916e+05,\n",
       "        5.03468714e+05,  1.29111371e+05,  3.69664345e+05,  4.85637776e+05,\n",
       "        3.08924175e+05,  6.00187241e+05,  2.37267406e+05,  6.24798116e+05,\n",
       "        4.02638504e+05,  1.81943885e+05,  2.38690290e+05,  7.01266514e+05,\n",
       "        4.11843996e+05,  6.71562812e+05,  1.63962400e+05,  2.18935516e+05,\n",
       "        5.63509356e+05,  4.39324755e+05,  2.10142837e+05,  3.67031460e+05,\n",
       "        6.16918902e+05,  2.84742915e+05,  6.37172555e+04,  3.86968744e+05,\n",
       "        3.13918473e+04,  1.12539657e+05,  4.92354890e+05,  1.20391722e+05,\n",
       "        2.37267406e+05,  5.32312202e+05,  1.90414121e+05,  1.78153398e+05,\n",
       "        1.29128245e+05,  3.15295444e+05,  1.97079662e+05,  2.26323044e+05,\n",
       "        1.74311816e+05,  1.19655065e+06,  5.33640781e+05,  2.28890439e+05,\n",
       "        2.22874002e+05,  5.63909592e+05,  3.72667933e+05,  5.84627272e+05,\n",
       "        7.47743243e+05,  3.57669065e+05,  4.80638042e+05,  9.33920173e+04,\n",
       "        5.21504796e+05,  5.24241660e+05,  1.95902748e+05,  5.26305940e+05,\n",
       "        5.65307344e+05,  5.56768288e+05,  3.01792829e+05,  3.76867596e+05,\n",
       "        4.93461766e+05,  2.81063550e+05,  8.39534464e+05,  7.10630914e+05,\n",
       "        1.33241637e+05,  2.75969220e+05,  5.66137948e+05,  7.01266514e+05,\n",
       "        3.67031460e+05,  3.75628591e+05,  1.82209132e+05,  2.44070414e+05,\n",
       "        2.78536151e+05,  1.07563327e+06,  7.99773782e+05,  2.54972566e+05,\n",
       "        1.63740708e+06,  3.29430662e+05,  5.08522695e+05,  7.08639708e+05,\n",
       "        7.89243452e+04,  3.43654517e+05,  1.84512415e+06,  1.74311816e+05,\n",
       "        2.77193081e+05,  3.74794065e+05,  3.29856715e+05,  3.70829668e+05,\n",
       "        3.01087311e+05, -2.01341079e+03,  6.40747244e+05,  2.81475546e+05,\n",
       "        1.84102173e+05,  6.64338836e+05,  4.27744713e+05,  3.24978340e+05,\n",
       "        3.20825257e+05,  2.17285424e+05,  7.63925125e+05,  2.71440244e+05,\n",
       "        1.40338778e+06,  2.54698882e+05,  5.78164248e+05,  3.74195573e+05,\n",
       "        2.47729953e+05, -4.33633303e+04,  3.35138771e+05,  8.17754876e+04,\n",
       "        8.19791900e+04,  5.01512877e+05,  5.94499128e+05,  4.06201760e+05,\n",
       "        4.48815785e+05,  5.48557398e+05,  1.12628337e+05,  3.59350076e+05,\n",
       "        5.22751982e+05,  3.27453819e+05,  1.31435715e+05,  6.63346530e+04,\n",
       "        3.31229873e+05,  6.78389445e+04,  8.96051845e+05,  5.42787383e+05,\n",
       "        1.20326354e+06,  3.15295444e+05,  6.87239356e+05,  4.39324755e+05,\n",
       "        5.02758454e+05,  6.85603073e+05,  1.14360229e+05,  2.68024651e+05,\n",
       "        2.99149766e+05,  5.22503510e+05,  1.38173820e+05,  9.08547879e+04,\n",
       "        1.76365608e+05,  2.87972292e+05,  1.53236314e+05,  3.74080739e+05,\n",
       "        1.58589275e+05,  4.71195330e+05,  1.88501786e+06,  8.19791900e+04,\n",
       "        1.40915338e+06,  5.08263173e+05,  2.81941160e+05,  3.24864662e+05,\n",
       "        1.77530042e+05,  4.80956336e+05,  2.11245276e+05,  2.29998279e+05,\n",
       "        6.07711649e+04,  7.02555220e+05,  3.56120309e+05,  2.96559859e+05,\n",
       "        2.50180578e+05,  2.11985469e+05,  3.24437877e+05,  9.61735072e+04,\n",
       "        6.93680553e+04,  3.23152409e+05,  1.19450370e+05,  1.81202901e+05,\n",
       "        1.02453162e+06,  2.21648446e+05,  6.91182756e+05,  7.36127574e+05,\n",
       "        2.85013056e+05, -5.18487734e+04,  7.31038040e+04,  3.08248355e+05,\n",
       "        2.05849625e+05,  2.60121871e+05,  2.12818719e+05,  6.40747244e+05,\n",
       "        4.98516247e+05,  7.24500615e+05,  5.35634920e+05,  1.21214393e+05,\n",
       "       -6.11470289e+04,  7.11349718e+05,  3.28772479e+05,  5.47496427e+05,\n",
       "        1.36787289e+06,  4.02638504e+05,  2.48392826e+05,  6.71562812e+05,\n",
       "        2.07057805e+05,  2.75344269e+05,  9.67771217e+04,  1.15338154e+06,\n",
       "        4.48134870e+05,  2.30244627e+05,  1.50025963e+06,  1.38949798e+05,\n",
       "        1.36850975e+05,  1.62678850e+05,  2.36252432e+05,  6.40747244e+05,\n",
       "        6.02730994e+04,  3.64086559e+04, -5.89080310e+04,  8.75171241e+04,\n",
       "        4.63580597e+05,  4.96677569e+05,  9.94677285e+05,  5.47637585e+04,\n",
       "        1.06718857e+05,  9.12340616e+04,  1.25093320e+05,  6.86713210e+05,\n",
       "        3.12200447e+06,  6.94322524e+04,  1.68093488e+05,  5.01665473e+05,\n",
       "        2.56639679e+05,  1.18657258e+05,  6.90408378e+05,  5.06743565e+05,\n",
       "        3.08293348e+04,  3.39130377e+05,  8.67378826e+04,  4.28409957e+05,\n",
       "        2.60209498e+05,  4.98658203e+05,  3.31789146e+05,  1.78153398e+05,\n",
       "        8.24874929e+05,  3.56423912e+05,  8.64167602e+05,  1.40915338e+06,\n",
       "        5.03468714e+05,  6.52505239e+04,  1.88501786e+06,  6.07401898e+04,\n",
       "        1.06873733e+05,  6.63650550e+05,  9.93009017e+05,  1.25283461e+05,\n",
       "        6.04088920e+05,  4.85277063e+05,  8.44645358e+05,  3.50763536e+05,\n",
       "        4.55380278e+05,  4.62055818e+05,  3.74195573e+05,  9.41790703e+05,\n",
       "        3.58443443e+05, -1.50401446e+03,  1.15826604e+06,  3.07899924e+05,\n",
       "        2.78371736e+05,  1.80535095e+05,  6.24488365e+05,  4.87729516e+05,\n",
       "        4.67680119e+04,  3.92303592e+05,  2.98062152e+05,  5.12298193e+05,\n",
       "        7.13706263e+05,  2.55592068e+05,  3.80488521e+05,  3.31386597e+05,\n",
       "        2.23054584e+05,  4.52904762e+05,  4.60403633e+05,  2.48110358e+05])"
      ]
     },
     "execution_count": 29,
     "metadata": {},
     "output_type": "execute_result"
    }
   ],
   "source": [
    "y_train_pred"
   ]
  },
  {
   "cell_type": "code",
   "execution_count": 30,
   "id": "6a72cbe3",
   "metadata": {},
   "outputs": [
    {
     "data": {
      "text/plain": [
       "0.8326140559989371"
      ]
     },
     "execution_count": 30,
     "metadata": {},
     "output_type": "execute_result"
    }
   ],
   "source": [
    "r2_score(y_train,y_train_pred)"
   ]
  },
  {
   "cell_type": "code",
   "execution_count": 31,
   "id": "cad99dcb",
   "metadata": {},
   "outputs": [],
   "source": [
    "# Test data prediction"
   ]
  },
  {
   "cell_type": "code",
   "execution_count": 32,
   "id": "61dad263",
   "metadata": {},
   "outputs": [],
   "source": [
    "y_test_pred = pipe.predict(X_test)"
   ]
  },
  {
   "cell_type": "code",
   "execution_count": 33,
   "id": "6d742665",
   "metadata": {},
   "outputs": [
    {
     "data": {
      "text/plain": [
       "array([ 4.80518334e+05,  3.51179093e+05,  1.25283461e+05,  1.23150184e+05,\n",
       "        2.52895472e+05,  1.88484061e+05,  2.37228726e+05,  6.22716526e+05,\n",
       "        1.54166777e+05,  5.09221574e+05,  1.86888332e+05,  4.04037824e+05,\n",
       "        1.37226775e+05,  1.48201663e+05,  1.39412824e+05,  5.29592377e+05,\n",
       "        1.04485967e+06,  3.27453819e+05,  3.09883976e+06,  3.47597616e+05,\n",
       "        1.31933649e+06,  9.69619958e+05,  1.55301070e+05,  7.04914898e+02,\n",
       "        1.36525921e+05,  5.92068878e+05,  5.46102547e+05,  8.37888702e+04,\n",
       "        2.06195202e+05,  2.45308763e+05,  2.08084315e+05,  2.83771443e+05,\n",
       "        1.94160431e+05,  2.16465552e+05,  1.78153398e+05,  2.29036090e+05,\n",
       "        3.51464785e+05, -1.79560713e+04,  2.34210566e+05,  2.23816705e+05,\n",
       "        2.29198731e+05,  5.65208694e+05,  2.21040273e+05,  3.59267207e+04,\n",
       "        4.67680119e+04,  4.96677569e+05,  4.49985179e+05,  1.88509529e+06,\n",
       "        3.16243627e+05,  3.28332539e+05,  4.02201937e+05,  1.56116078e+06,\n",
       "        3.87791962e+05,  2.68676524e+05,  3.75084922e+05,  3.59814703e+05,\n",
       "        1.88509529e+06,  2.23054584e+05,  6.80014410e+05,  2.41589554e+05,\n",
       "        4.18383785e+05,  4.56953947e+05,  1.54114258e+05,  1.07338360e+05,\n",
       "        2.33126437e+05,  5.10281727e+05,  3.48497457e+05,  1.70093811e+05,\n",
       "        2.90550999e+05,  5.27209707e+05,  5.78835231e+05,  4.28431326e+05,\n",
       "        1.75440799e+05,  2.08905469e+05,  1.79525340e+05,  2.27241164e+05,\n",
       "        1.35166961e+05,  2.37267406e+05,  3.53052298e+05,  6.31388500e+05,\n",
       "        9.45958620e+04,  2.25692408e+05,  2.53547988e+05,  4.18059544e+05,\n",
       "        3.06422694e+05,  2.44534385e+05,  1.12628337e+05,  1.46652907e+05,\n",
       "        2.85663355e+05,  2.03920451e+05,  2.44463600e+05,  3.49267549e+03,\n",
       "        4.43052844e+05,  2.35926273e+05,  3.18705566e+05,  3.68240177e+05,\n",
       "        7.18560086e+05,  4.15324168e+05,  1.55301070e+05,  4.35606024e+05,\n",
       "        2.38710073e+05,  2.33817196e+05,  7.32153489e+05,  3.05510570e+05,\n",
       "        2.18935516e+05,  5.56768288e+05,  1.53082648e+05,  5.95443896e+05,\n",
       "        5.44544928e+04,  6.37973402e+05,  4.10677901e+05,  9.02153597e+05,\n",
       "        7.31216508e+05,  2.18544482e+05,  1.79358244e+05,  3.56355148e+05,\n",
       "        2.09070929e+05,  8.15931658e+04,  2.97840219e+05,  4.48815785e+05,\n",
       "        3.49039164e+05,  7.60146161e+05,  2.68024651e+05,  6.72101470e+05,\n",
       "        4.27141030e+05,  4.32324834e+05,  1.06563982e+05,  1.94218755e+05,\n",
       "        4.98312182e+05,  1.72106630e+05,  2.41642680e+05,  1.83087478e+05,\n",
       "        3.57204439e+05,  5.34092386e+05,  3.74234605e+05,  1.27797856e+06,\n",
       "        3.01784252e+05,  1.52973655e+06,  2.59927536e+05,  4.88943968e+05,\n",
       "        5.14776202e+05,  3.56508475e+05,  6.48288446e+05,  4.12857900e+05,\n",
       "        6.86069356e+05,  1.40343679e+05,  8.24284311e+05,  2.75514137e+05,\n",
       "        1.88509529e+06,  4.33226882e+05,  3.08459384e+05,  4.85277063e+05,\n",
       "        6.71944716e+04,  2.14071717e+05,  2.14878111e+05,  3.19867446e+05,\n",
       "        2.51529077e+05,  2.85377832e+05,  3.57491569e+05,  2.98923492e+05,\n",
       "        4.19187320e+05,  3.11167981e+05,  5.26899955e+05,  7.35316374e+05])"
      ]
     },
     "execution_count": 33,
     "metadata": {},
     "output_type": "execute_result"
    }
   ],
   "source": [
    "y_test_pred"
   ]
  },
  {
   "cell_type": "markdown",
   "id": "41690d2a",
   "metadata": {},
   "source": [
    "Finding the model with a random state of TrainTestSplit where the model was found to give almost 0.92 as r2_score"
   ]
  },
  {
   "cell_type": "code",
   "execution_count": 34,
   "id": "4b61b021",
   "metadata": {},
   "outputs": [],
   "source": [
    "scores=[]\n",
    "for i in range (1000):\n",
    "    X_train,X_test,y_train,y_test=train_test_split(X,y,test_size=0.1,random_state=i)\n",
    "    pipe=make_pipeline(step1,step2)\n",
    "    pipe.fit(X_train,y_train)\n",
    "    y_test_pred=pipe.predict(X_test)\n",
    "    scores.append(r2_score(y_test,y_test_pred))\n",
    "    "
   ]
  },
  {
   "cell_type": "code",
   "execution_count": 35,
   "id": "b383b54d",
   "metadata": {},
   "outputs": [
    {
     "data": {
      "text/plain": [
       "144"
      ]
     },
     "execution_count": 35,
     "metadata": {},
     "output_type": "execute_result"
    }
   ],
   "source": [
    "np.argmax(scores)"
   ]
  },
  {
   "cell_type": "code",
   "execution_count": 36,
   "id": "95cb1e91",
   "metadata": {},
   "outputs": [
    {
     "data": {
      "text/plain": [
       "0.9242249001816017"
      ]
     },
     "execution_count": 36,
     "metadata": {},
     "output_type": "execute_result"
    }
   ],
   "source": [
    "scores[np.argmax(scores)]"
   ]
  },
  {
   "cell_type": "code",
   "execution_count": 37,
   "id": "2f77ba60",
   "metadata": {},
   "outputs": [
    {
     "data": {
      "text/plain": [
       "array([413822.60707328])"
      ]
     },
     "execution_count": 37,
     "metadata": {},
     "output_type": "execute_result"
    }
   ],
   "source": [
    "pipe.predict(\n",
    "pd.DataFrame(columns=X_test.columns,data=np.array(['Maruti Suzuki Swift','Maruti',2019,100,'Petrol']).reshape(1,5))\n",
    ")"
   ]
  },
  {
   "cell_type": "markdown",
   "id": "64457774",
   "metadata": {},
   "source": [
    "## The best model is found at a certain random state"
   ]
  },
  {
   "cell_type": "code",
   "execution_count": 38,
   "id": "871420ba",
   "metadata": {},
   "outputs": [
    {
     "data": {
      "text/plain": [
       "0.9242249001816017"
      ]
     },
     "execution_count": 38,
     "metadata": {},
     "output_type": "execute_result"
    }
   ],
   "source": [
    "X_train,X_test,y_train,y_test=train_test_split(X,y,test_size=0.1,random_state=np.argmax(scores))\n",
    "pipe=make_pipeline(step1,step2)\n",
    "pipe.fit(X_train,y_train)\n",
    "y_test_pred=pipe.predict(X_test)\n",
    "r2_score(y_test,y_test_pred)"
   ]
  },
  {
   "cell_type": "code",
   "execution_count": 39,
   "id": "5a2a03cf",
   "metadata": {},
   "outputs": [],
   "source": [
    "import pickle as pkl"
   ]
  },
  {
   "cell_type": "code",
   "execution_count": 40,
   "id": "8a4475ef",
   "metadata": {},
   "outputs": [],
   "source": [
    "pkl.dump(pipe,open('pipe.pkl','wb'))\n",
    "pkl.dump(df,open('df.pkl','wb'))"
   ]
  },
  {
   "cell_type": "code",
   "execution_count": 41,
   "id": "2a8f9ce1",
   "metadata": {},
   "outputs": [
    {
     "name": "stdout",
     "output_type": "stream",
     "text": [
      "<class 'pandas.core.frame.DataFrame'>\n",
      "RangeIndex: 816 entries, 0 to 815\n",
      "Data columns (total 6 columns):\n",
      " #   Column      Non-Null Count  Dtype  \n",
      "---  ------      --------------  -----  \n",
      " 0   name        816 non-null    object \n",
      " 1   company     816 non-null    object \n",
      " 2   year        816 non-null    int64  \n",
      " 3   Price       816 non-null    float64\n",
      " 4   kms_driven  816 non-null    int64  \n",
      " 5   fuel_type   816 non-null    object \n",
      "dtypes: float64(1), int64(2), object(3)\n",
      "memory usage: 38.4+ KB\n"
     ]
    }
   ],
   "source": [
    "df.info()"
   ]
  }
 ],
 "metadata": {
  "kernelspec": {
   "display_name": "Python 3 (ipykernel)",
   "language": "python",
   "name": "python3"
  },
  "language_info": {
   "codemirror_mode": {
    "name": "ipython",
    "version": 3
   },
   "file_extension": ".py",
   "mimetype": "text/x-python",
   "name": "python",
   "nbconvert_exporter": "python",
   "pygments_lexer": "ipython3",
   "version": "3.9.12"
  }
 },
 "nbformat": 4,
 "nbformat_minor": 5
}
